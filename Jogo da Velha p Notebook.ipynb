{
 "cells": [
  {
   "cell_type": "code",
   "execution_count": 1,
   "id": "52014ef4",
   "metadata": {},
   "outputs": [],
   "source": [
    "p = [1, 2, 3, 4, 5, 6, 7, 8, 9]\n",
    "p_reset = [1, 2, 3, 4, 5, 6, 7, 8, 9]"
   ]
  },
  {
   "cell_type": "code",
   "execution_count": 2,
   "id": "9acee8ec",
   "metadata": {},
   "outputs": [],
   "source": [
    "def layout(a):\n",
    "    print(f'       |       |       ')\n",
    "    print(f'   {a[0]}   |   {a[1]}   |   {a[2]}   ')\n",
    "    print(f'_______|_______|_______')\n",
    "    print(f'       |       |       ')\n",
    "    print(f'   {a[3]}   |   {a[4]}   |   {a[5]}   ')\n",
    "    print(f'_______|_______|_______')\n",
    "    print(f'       |       |       ')\n",
    "    print(f'   {a[6]}   |   {a[7]}   |   {a[8]}   ')\n",
    "    print(f'       |       |       ')"
   ]
  },
  {
   "cell_type": "code",
   "execution_count": 3,
   "id": "70c013ce",
   "metadata": {},
   "outputs": [],
   "source": [
    "def win(a):\n",
    "\n",
    "    if p[0] == a and p[1] == a and p[2] == a:\n",
    "        return True\n",
    "    elif p[3] == a and p[4] == a and p[5] == a:\n",
    "        return True\n",
    "    elif p[6] == a and p[7] == a and p[8] == a:\n",
    "        return True\n",
    "    elif p[0] == a and p[3] == a and p[6] == a:\n",
    "        return True\n",
    "    elif p[1] == a and p[4] == a and p[7] == a:\n",
    "        return True\n",
    "    elif p[2] == a and p[5] == a and p[8] == a:\n",
    "        return True\n",
    "    elif p[0] == a and p[4] == a and p[5] == a:\n",
    "        return True\n",
    "    elif p[2] == a and p[4] == a and p[6] == a:\n",
    "        return True\n",
    "    return False"
   ]
  },
  {
   "cell_type": "code",
   "execution_count": 4,
   "id": "6fdde056",
   "metadata": {},
   "outputs": [],
   "source": [
    "def jogada(a):\n",
    "\n",
    "    jogada = True\n",
    "\n",
    "    while jogada == True:\n",
    "        try:\n",
    "            player = int(input(f'\\nplayer {a} de 1-9: ')) - 1\n",
    "            if player >= 0 and player <= 8:\n",
    "                 if isinstance(p[player], int) == True:\n",
    "                    p[player] = a\n",
    "                    break\n",
    "                 else:\n",
    "                    print('já foi escolhido')\n",
    "            else:\n",
    "                print('dígito errado')\n",
    "        except:\n",
    "            print('NÚMERO DE 1-9')"
   ]
  },
  {
   "cell_type": "code",
   "execution_count": null,
   "id": "230a05e1",
   "metadata": {},
   "outputs": [
    {
     "name": "stdout",
     "output_type": "stream",
     "text": [
      "       |       |       \n",
      "   1   |   2   |   3   \n",
      "_______|_______|_______\n",
      "       |       |       \n",
      "   4   |   5   |   6   \n",
      "_______|_______|_______\n",
      "       |       |       \n",
      "   7   |   8   |   9   \n",
      "       |       |       \n"
     ]
    }
   ],
   "source": [
    "jogo = True\n",
    "\n",
    "while jogo == True:\n",
    "    from IPython.display import clear_output\n",
    "        \n",
    "    layout(p)\n",
    "\n",
    "    jogada('X')\n",
    "        \n",
    "\n",
    "    if win('X') == True:\n",
    "        clear_output()\n",
    "        layout(p)\n",
    "        dnv = input('\\nJogador X ganhou! \\nJogar novamente? (Y/N): ')\n",
    "        if dnv.upper() == 'Y':\n",
    "            p = p_reset\n",
    "        else:\n",
    "            jogo = False\n",
    "            break\n",
    "                \n",
    "    clear_output()\n",
    "        \n",
    "    layout(p)\n",
    "\n",
    "    jogada('O')\n",
    "\n",
    "    if win('O') == True:\n",
    "        clear_output()\n",
    "        layout(p)\n",
    "        dnv = input('\\nJogador O ganhou! \\nJogar novamente? (Y/N): ')\n",
    "        if dnv.upper() == 'Y':\n",
    "            p = p_reset\n",
    "        else:\n",
    "            jogo = False\n",
    "            break\n",
    "        \n",
    "    clear_output()\n",
    "\n",
    "        "
   ]
  }
 ],
 "metadata": {
  "kernelspec": {
   "display_name": "Python 3 (ipykernel)",
   "language": "python",
   "name": "python3"
  },
  "language_info": {
   "codemirror_mode": {
    "name": "ipython",
    "version": 3
   },
   "file_extension": ".py",
   "mimetype": "text/x-python",
   "name": "python",
   "nbconvert_exporter": "python",
   "pygments_lexer": "ipython3",
   "version": "3.9.7"
  }
 },
 "nbformat": 4,
 "nbformat_minor": 5
}
